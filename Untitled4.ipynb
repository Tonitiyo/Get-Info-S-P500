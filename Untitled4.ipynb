{
 "cells": [
  {
   "cell_type": "code",
   "execution_count": 109,
   "id": "0752e809-4816-4ae8-a6de-5242627e24bc",
   "metadata": {
    "scrolled": true
   },
   "outputs": [
    {
     "data": {
      "text/plain": [
       "Name                                                     Apple Inc.\n",
       "Sector                                       Information Technology\n",
       "Sub-Sector               Technology Hardware, Storage & Peripherals\n",
       "Headquarters Location                         Cupertino, California\n",
       "Date added                                               1982-11-30\n",
       "CIK                                                          320193\n",
       "Founded                                                        1977\n",
       "Name: AAPL, dtype: object"
      ]
     },
     "execution_count": 109,
     "metadata": {},
     "output_type": "execute_result"
    }
   ],
   "source": [
    "import pandas as pd\n",
    "import numpy as np\n",
    "import yfinance as yf\n",
    "import matplotlib.pyplot as plt\n",
    "\n",
    "#Ticker imported from wikipedia\n",
    "SP500url = \"https://en.wikipedia.org/wiki/List_of_S%26P_500_companies\"\n",
    "\n",
    "#Since impossible to get data from wikipedia I used a user agent\n",
    "headers = {\n",
    "    \"User-Agent\": (\"Mozilla/5.0 (Windows NT 10.0; Win64; x64) \"\n",
    "                   \"AppleWebKit/537.36 (KHTML, like Gecko) \"\n",
    "                   \"Chrome/124.0.0.0 Safari/537.36\")\n",
    "}\n",
    "\n",
    "tables = pd.read_html(SP500url, storage_options=headers)\n",
    "SP500 = tables[0].rename(columns={\"Symbol\" : \"Ticker\", \"Security\" : \"Name\", \"GICS Sector\" : \"Sector\",\t\n",
    "                                  \"GICS Sub-Industry\" : \"Sub-Sector\"})\n",
    "SP500 = SP500.set_index(\"Ticker\")\n",
    "#Test\n",
    "SP500.loc[\"AAPL\"]"
   ]
  },
  {
   "cell_type": "code",
   "execution_count": 111,
   "id": "8874b663-40a8-4e3b-90eb-b8bbbbe381ac",
   "metadata": {},
   "outputs": [
    {
     "data": {
      "text/plain": [
       "{'ticker': yfinance.Ticker object <AAPL>,\n",
       " 'name': 'Apple Inc.',\n",
       " 'currency': 'USD',\n",
       " 'price': 239.49,\n",
       " 'market_cap': 3554127380480,\n",
       " 'pe_trailing': 36.341427,\n",
       " 'pe_forward': 28.819494,\n",
       " 'beta': 1.109,\n",
       " 'sector': 'Technology',\n",
       " 'industry': 'Consumer Electronics',\n",
       " 'shares_outstanding': 14840399872,\n",
       " 'volatility_1y': 0.27577219299449063}"
      ]
     },
     "execution_count": 111,
     "metadata": {},
     "output_type": "execute_result"
    }
   ],
   "source": [
    "def get_fin_info(ticker = str, period = \"1y\", trading_days = 252):\n",
    "    ticker = yf.Ticker(ticker)\n",
    "    # Historique de prix pour calcul de volatilité\n",
    "    hist = t.history(period=period, auto_adjust=True)\n",
    "    vol = None\n",
    "    if not hist.empty:\n",
    "        returns = np.log(hist[\"Close\"]).diff().dropna()\n",
    "        vol = returns.std(ddof=1) * np.sqrt(trading_days)\n",
    "    \n",
    "    # Fast info + info détaillée\n",
    "    fast = getattr(t, \"fast_info\", {})\n",
    "    try:\n",
    "        info = t.info\n",
    "    except Exception:\n",
    "        info = {}\n",
    "    return {\n",
    "        \"ticker\": ticker,\n",
    "        \"name\": info.get(\"longName\", ticker),\n",
    "        \"currency\": fast.get(\"currency\") or info.get(\"currency\"),\n",
    "        \"price\": fast.get(\"last_price\") or info.get(\"currentPrice\"),\n",
    "        \"market_cap\": fast.get(\"market_cap\") or info.get(\"marketCap\"),\n",
    "        \"pe_trailing\": info.get(\"trailingPE\"),\n",
    "        \"pe_forward\": info.get(\"forwardPE\"),\n",
    "        \"beta\": info.get(\"beta\"),\n",
    "        \"sector\": info.get(\"sector\"),\n",
    "        \"industry\": info.get(\"industry\"),\n",
    "        \"shares_outstanding\": info.get(\"sharesOutstanding\"),\n",
    "        \"volatility_1y\": vol,\n",
    "    }\n",
    "\n",
    "get_fin_info(\"AAPL\", \"2y\")"
   ]
  }
 ],
 "metadata": {
  "kernelspec": {
   "display_name": "Python 3 (ipykernel)",
   "language": "python",
   "name": "python3"
  },
  "language_info": {
   "codemirror_mode": {
    "name": "ipython",
    "version": 3
   },
   "file_extension": ".py",
   "mimetype": "text/x-python",
   "name": "python",
   "nbconvert_exporter": "python",
   "pygments_lexer": "ipython3",
   "version": "3.12.3"
  }
 },
 "nbformat": 4,
 "nbformat_minor": 5
}
